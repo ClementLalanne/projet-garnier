{
 "cells": [
  {
   "cell_type": "code",
   "execution_count": null,
   "metadata": {},
   "outputs": [],
   "source": [
    "%pylab inline\n",
    "%matplotlib inline\n",
    "import math\n",
    "from tqdm import tqdm_notebook"
   ]
  },
  {
   "cell_type": "markdown",
   "metadata": {},
   "source": [
    "## Problem Constants"
   ]
  },
  {
   "cell_type": "code",
   "execution_count": null,
   "metadata": {},
   "outputs": [],
   "source": [
    "r0 = 2.\n",
    "k = 1\n",
    "omega = 1\n",
    "c = omega / k\n",
    "L = 10\n",
    "npoints = 1024\n",
    "xmax = 60"
   ]
  },
  {
   "cell_type": "code",
   "execution_count": null,
   "metadata": {},
   "outputs": [],
   "source": [
    "points = np.linspace(-xmax/2, xmax/2, npoints)\n",
    "dx = points[1] - points[0]"
   ]
  },
  {
   "cell_type": "code",
   "execution_count": null,
   "metadata": {},
   "outputs": [],
   "source": [
    "ωmax = 2 * np.pi / dx\n",
    "freq  = np.linspace(-ωmax/2, ωmax/2, npoints, endpoint=False)"
   ]
  },
  {
   "cell_type": "code",
   "execution_count": null,
   "metadata": {},
   "outputs": [],
   "source": [
    "h=1"
   ]
  },
  {
   "cell_type": "markdown",
   "metadata": {},
   "source": [
    "## Gaussian Process and Random Medium"
   ]
  },
  {
   "cell_type": "markdown",
   "metadata": {},
   "source": [
    "In order to simplify computations, we assume $z_c = h$, and $\\frac Lh \\in \\mathbb{N}$."
   ]
  },
  {
   "cell_type": "code",
   "execution_count": null,
   "metadata": {},
   "outputs": [],
   "source": [
    "def random_medium(zc, xc, sigma):\n",
    "    # Simplification assertions.\n",
    "    assert zc == h\n",
    "    assert int(L/h) == L/h\n",
    "    \n",
    "    mus = np.zeros((npoints, int(math.ceil(L/zc))))\n",
    "\n",
    "    R = sigma**2* np.exp(-(points / xc) ** 2)\n",
    "    Rhat = np.fft.fft(np.fft.fftshift(R))\n",
    "\n",
    "    for i in range(int(math.ceil(L/zc))):\n",
    "        # For each z-band, we generate a new Gaussian process.\n",
    "        # First, we generate a Gaussian white noise.\n",
    "        W= np.random.randn(npoints)\n",
    "\n",
    "        # Then we use FFT to generate the Gaussian Process.\n",
    "        F = np.fft.ifft(np.sqrt(Rhat) * np.fft.fft(W))\n",
    "        mus[:, i] = np.real(F)\n",
    "\n",
    "    return mus"
   ]
  },
  {
   "cell_type": "markdown",
   "metadata": {},
   "source": [
    "## Propagation operators"
   ]
  },
  {
   "cell_type": "markdown",
   "metadata": {},
   "source": [
    "### Homogeneous medium D (differential) operator"
   ]
  },
  {
   "cell_type": "code",
   "execution_count": null,
   "metadata": {},
   "outputs": [],
   "source": [
    "def D(Phi, h, k):\n",
    "    # The Differential D operator is a simple multiplication in Fourier domain.\n",
    "    # h is the size of the step.\n",
    "    Phihat = np.fft.fftshift(np.fft.fft(Phi))\n",
    "    Phihat *= np.exp(-1j * freq**2 * h/(2*k))\n",
    "    Phit = np.fft.ifft(np.fft.ifftshift(Phihat))\n",
    "    return Phit"
   ]
  },
  {
   "cell_type": "markdown",
   "metadata": {},
   "source": [
    "### Inhomogeneous medium N (non linear) operator"
   ]
  },
  {
   "cell_type": "code",
   "execution_count": null,
   "metadata": {},
   "outputs": [],
   "source": [
    "def N(Phi, h, k, mu):\n",
    "    # The Non-Linear operator N is a simple multiplication in time domain?\n",
    "    # h is the size of the step, which is also supposed to be equal to the width of the potential μ.\n",
    "    return Phi * np.exp(1j * k/2 * h * mu)"
   ]
  },
  {
   "cell_type": "markdown",
   "metadata": {},
   "source": [
    "### Split Step Fourier operator"
   ]
  },
  {
   "cell_type": "code",
   "execution_count": null,
   "metadata": {},
   "outputs": [],
   "source": [
    "def ssf(Phi, mus, k, h):\n",
    "    # Applies Split Step Fourier operator to approximate the global solution.\n",
    "    \n",
    "    # TODO: Merge contiguous half steps?\n",
    "    for i in range(int(math.ceil(L/zc))):\n",
    "        # Linear half step:\n",
    "        Phi = D(Phi, h/2, k)\n",
    "\n",
    "        # Non linear step:\n",
    "        Phi = N(Phi, h, k, mus[:, i])\n",
    "\n",
    "        # Linear half step:\n",
    "        Phi = D(Phi, h/2, k)\n",
    "    return Phi"
   ]
  },
  {
   "cell_type": "markdown",
   "metadata": {},
   "source": [
    "## Time Reversal Operators"
   ]
  },
  {
   "cell_type": "markdown",
   "metadata": {},
   "source": [
    "### Time reversal mirror"
   ]
  },
  {
   "cell_type": "code",
   "execution_count": null,
   "metadata": {},
   "outputs": [],
   "source": [
    "def mirror_tr(Phi, mirror):\n",
    "    return np.conj(Phi) * mirror"
   ]
  },
  {
   "cell_type": "markdown",
   "metadata": {},
   "source": [
    "### Time Reversal Mirror in homogeneous medium"
   ]
  },
  {
   "cell_type": "code",
   "execution_count": null,
   "metadata": {},
   "outputs": [],
   "source": [
    "def D_tr(Phi, h, k, mirror):\n",
    "    Phit = D(Phi, h, k)\n",
    "    Phitr = mirror_tr(Phit, mirror)\n",
    "    return D(Phitr, h, k)"
   ]
  },
  {
   "cell_type": "markdown",
   "metadata": {},
   "source": [
    "### Time Reversal Mirror in random medium"
   ]
  },
  {
   "cell_type": "code",
   "execution_count": null,
   "metadata": {},
   "outputs": [],
   "source": [
    "def ssf_tr(Phi, mus, k, h, mirror):\n",
    "    Phit = ssf(Phi, mus, k, h)\n",
    "    Phitr = mirror_tr(Phit, mirror)\n",
    "    return ssf(Phitr, mus[:,::-1], k, h)"
   ]
  },
  {
   "cell_type": "markdown",
   "metadata": {},
   "source": [
    "### Hybrid Time Reversal (Random forward and Homogenous backward mediums)"
   ]
  },
  {
   "cell_type": "code",
   "execution_count": null,
   "metadata": {},
   "outputs": [],
   "source": [
    "def hybrid_tr(Phi, mus, k, h, mirror):\n",
    "    Phit = ssf(Phi, mus, k, h)\n",
    "    Phitr = mirror_tr(Phit, mirror)\n",
    "    return D(Phitr, int(math.ceil(L/zc)), k)"
   ]
  },
  {
   "cell_type": "markdown",
   "metadata": {},
   "source": [
    "# Experiments"
   ]
  },
  {
   "cell_type": "code",
   "execution_count": null,
   "metadata": {},
   "outputs": [],
   "source": [
    "Phi0 = np.exp(-(points / r0)**2)"
   ]
  },
  {
   "cell_type": "markdown",
   "metadata": {},
   "source": [
    "## 1) Propagation of time-harmonic waves in a homogeneous medium"
   ]
  },
  {
   "cell_type": "code",
   "execution_count": null,
   "metadata": {},
   "outputs": [],
   "source": [
    "Phit = D(Phi0, L, k)"
   ]
  },
  {
   "cell_type": "code",
   "execution_count": null,
   "metadata": {},
   "outputs": [],
   "source": [
    "plt.plot(points, Phi0**2, label='Original transverse profile')\n",
    "plt.plot(points, np.absolute(Phit)**2, label='Transmitted transverse profile')\n",
    "plt.legend()\n",
    "plt.show()"
   ]
  },
  {
   "cell_type": "markdown",
   "metadata": {},
   "source": [
    "### Theoretical Formulas"
   ]
  },
  {
   "cell_type": "code",
   "execution_count": null,
   "metadata": {},
   "outputs": [],
   "source": [
    "def theory_rt(k):\n",
    "    return r0 * np.sqrt(1 + 2j * L / (k * r0**2))\n",
    "\n",
    "def theory_Rt(k):\n",
    "    return r0 * np.sqrt(1 + ((2 * L) / (k * r0**2)) ** 2)\n",
    "\n",
    "def theory_Phit(k):\n",
    "    rt = theory_rt(k)\n",
    "    return r0 / rt * np.exp(- (points / rt) ** 2)\n",
    "\n",
    "def theory_Phit_2(k):\n",
    "    Rt = theory_Rt(k)\n",
    "    return r0 / Rt * np.exp(-2*(points / Rt)**2)"
   ]
  },
  {
   "cell_type": "code",
   "execution_count": null,
   "metadata": {},
   "outputs": [],
   "source": [
    "plt.plot(points, np.absolute(Phit)**2, label='Numerical transmitted transverse profile')\n",
    "plt.plot(points, np.abs(theory_Phit(k)) ** 2, label='Theoretical transmitted transverse profile')\n",
    "plt.legend()\n",
    "plt.show()"
   ]
  },
  {
   "cell_type": "markdown",
   "metadata": {},
   "source": [
    "## 2) Time reversal for time-harmonic waves in a homogeneous medium"
   ]
  },
  {
   "cell_type": "markdown",
   "metadata": {},
   "source": [
    "### Time reversal mirrors"
   ]
  },
  {
   "cell_type": "code",
   "execution_count": null,
   "metadata": {},
   "outputs": [],
   "source": [
    "rM = 10"
   ]
  },
  {
   "cell_type": "code",
   "execution_count": null,
   "metadata": {},
   "outputs": [],
   "source": [
    "# Compactly supported mirror.\n",
    "def compact_mirror(r):\n",
    "    return (1 - (points/(2*r))**2) ** 2 * (np.abs(points) <= 2*r)\n",
    "\n",
    "# Gaussian mirror.\n",
    "def gaussian_mirror(r):\n",
    "    return np.exp(- (points/r) ** 2)"
   ]
  },
  {
   "cell_type": "code",
   "execution_count": null,
   "metadata": {},
   "outputs": [],
   "source": [
    "radii = np.linspace(2, 20, 4)\n",
    "for r in radii:\n",
    "    plt.plot(points, compact_mirror(r), label='Compact Mirror rM = {}'.format(int(r)))\n",
    "plt.legend()\n",
    "plt.show()"
   ]
  },
  {
   "cell_type": "markdown",
   "metadata": {},
   "source": [
    "### Time Reversal with Compact and Gaussian mirror"
   ]
  },
  {
   "cell_type": "code",
   "execution_count": null,
   "metadata": {},
   "outputs": [],
   "source": [
    "radii = np.linspace(2, 20, 4)\n",
    "for r in radii:\n",
    "    plt.plot(points, gaussian_mirror(r), label='Gaussian Mirror rM = {}'.format(int(r)))\n",
    "plt.legend()\n",
    "plt.show()"
   ]
  },
  {
   "cell_type": "code",
   "execution_count": null,
   "metadata": {},
   "outputs": [],
   "source": [
    "rM = 10"
   ]
  },
  {
   "cell_type": "code",
   "execution_count": null,
   "metadata": {},
   "outputs": [],
   "source": [
    "Phi_tr_compact = D_tr(Phi0, L, k, compact_mirror(rM))\n",
    "Phi_tr_gaussian = D_tr(Phi0, L, k, gaussian_mirror(rM))"
   ]
  },
  {
   "cell_type": "code",
   "execution_count": null,
   "metadata": {},
   "outputs": [],
   "source": [
    "plt.plot(points, np.absolute(Phi_tr_compact)**2, label='Compact')\n",
    "plt.plot(points, np.absolute(Phi_tr_gaussian)**2, label='Gaussian')\n",
    "plt.plot(points, np.absolute(Phi0)**2, label='Source')\n",
    "plt.legend()\n",
    "plt.show()"
   ]
  },
  {
   "cell_type": "markdown",
   "metadata": {},
   "source": [
    "### Theoretical Formulas for Gaussian Mirror Time Reversal"
   ]
  },
  {
   "cell_type": "code",
   "execution_count": null,
   "metadata": {},
   "outputs": [],
   "source": [
    "def theory_rtr(rM, k):\n",
    "    return np.sqrt(1 / (1/rM**2 + 1/(r0**2-2 * 1j * L/k)) + 2 * 1j * L/k)\n",
    "\n",
    "def theory_atr(rM, k):\n",
    "    return np.sqrt(1 + (2 * L / (k * r0 * rM)) ** 2 + 2 * 1j * L/(k*rM**2))\n",
    "\n",
    "def theory_gaussian_Phitr(rM, k):\n",
    "    atr = theory_atr(rM, k)\n",
    "    rtr = theory_rtr(rM, k)\n",
    "    return 1/atr * np.exp(-(points/rtr)**2)"
   ]
  },
  {
   "cell_type": "code",
   "execution_count": null,
   "metadata": {},
   "outputs": [],
   "source": [
    "plt.plot(points, np.absolute(Phi_tr_gaussian)**2, label='Numerical Gaussian')\n",
    "plt.plot(points, np.absolute(theory_gaussian_Phitr(rM, k))**2, label='Theoretical Gaussian')\n",
    "plt.legend()\n",
    "plt.show()"
   ]
  },
  {
   "cell_type": "markdown",
   "metadata": {},
   "source": [
    "### Refocusing quality with mirror radius"
   ]
  },
  {
   "cell_type": "code",
   "execution_count": null,
   "metadata": {},
   "outputs": [],
   "source": [
    "radii = np.linspace(2, 20, 4)\n",
    "for r in radii:\n",
    "    plt.plot(points, np.absolute(D_tr(Phi0, L, k, gaussian_mirror(r))) ** 2, label='Gaussian rM = {}'.format(int(r)))\n",
    "plt.legend()\n",
    "plt.show()"
   ]
  },
  {
   "cell_type": "code",
   "execution_count": null,
   "metadata": {},
   "outputs": [],
   "source": [
    "radii = np.linspace(2, 20, 4)\n",
    "for r in radii:\n",
    "    plt.plot(points, np.absolute(D_tr(Phi0, L, k, compact_mirror(r))) ** 2, label='Compact rM = {}'.format(int(r)))\n",
    "plt.legend()\n",
    "plt.show()"
   ]
  },
  {
   "cell_type": "markdown",
   "metadata": {},
   "source": [
    "## 3) Propagation of time-harmonic waves in a random medium"
   ]
  },
  {
   "cell_type": "markdown",
   "metadata": {},
   "source": [
    "### Random Medium parameters"
   ]
  },
  {
   "cell_type": "code",
   "execution_count": null,
   "metadata": {},
   "outputs": [],
   "source": [
    "zc = 1\n",
    "xc = 4\n",
    "sigma = 1"
   ]
  },
  {
   "cell_type": "code",
   "execution_count": null,
   "metadata": {},
   "outputs": [],
   "source": [
    "μ = random_medium(zc, xc, sigma)"
   ]
  },
  {
   "cell_type": "code",
   "execution_count": null,
   "metadata": {},
   "outputs": [],
   "source": [
    "plt.plot(points, np.absolute(ssf(Phi0, μ, k, h))**2, label='Transmitted wave')\n",
    "plt.legend()\n",
    "plt.show()"
   ]
  },
  {
   "cell_type": "markdown",
   "metadata": {},
   "source": [
    "### Theoretical Formulas"
   ]
  },
  {
   "cell_type": "code",
   "execution_count": null,
   "metadata": {},
   "outputs": [],
   "source": [
    "def theory_gamma0(sigma, zc):\n",
    "    return sigma ** 2 * zc\n",
    "\n",
    "def theory_Phit_random(omega, sigma, zc):\n",
    "    k = omega / c\n",
    "    rt = theory_rt(k)\n",
    "    return r0 / rt * np.exp(- (points / rt) ** 2) * np.exp(-theory_gamma0(sigma, zc)/8 * L * omega**2)"
   ]
  },
  {
   "cell_type": "markdown",
   "metadata": {},
   "source": [
    "### Average transmitted wave profile"
   ]
  },
  {
   "cell_type": "code",
   "execution_count": null,
   "metadata": {},
   "outputs": [],
   "source": [
    "xc = 4\n",
    "zc = 1\n",
    "sigma = 1\n",
    "N_avg = 5000\n",
    "plot_period = 200\n",
    "rM=10\n",
    "\n",
    "%matplotlib notebook\n",
    "fig = plt.figure(figsize=(10, 7))\n",
    "ax = fig.add_subplot(111)\n",
    "plt.ion()\n",
    "fig.show()\n",
    "fig.canvas.draw()\n",
    "\n",
    "theory_avg_Phit = np.absolute(theory_Phit_random(omega, sigma, zc)) ** 2\n",
    "avg_Phit = np.zeros(npoints, dtype=complex)\n",
    "\n",
    "for i in tqdm_notebook(range(N_avg)):\n",
    "    avg_Phit += ssf(Phi0, random_medium(zc, xc, sigma), k, h)\n",
    "    if i % plot_period == 0 or i == N_avg - 1:\n",
    "        ax.clear()\n",
    "        ax.plot(points, theory_avg_Phit, label='Theoretical transmitted profile')\n",
    "        ax.plot(points, np.absolute(avg_Phit / (i+1)) ** 2, label='Numerical transmitted profile')\n",
    "        ax.set_ylim(-0.05 * np.max(theory_avg_Phit), np.max(theory_avg_Phit)*1.1)\n",
    "        ax.legend()\n",
    "        ax.plot()\n",
    "        fig.canvas.draw()\n",
    "\n",
    "avg_Phit /= N_avg\n",
    "\n",
    "fig.show()\n",
    "%matplotlib inline\n",
    "plt.plot(points, theory_avg_Phit, label='Theory')\n",
    "plt.plot(points, np.absolute(avg_Phit) ** 2, label='Numerical')\n",
    "plt.legend()\n",
    "plt.show()"
   ]
  },
  {
   "cell_type": "markdown",
   "metadata": {},
   "source": [
    "## 4) Time reversal for time-harmonic waves in a random medium"
   ]
  },
  {
   "cell_type": "markdown",
   "metadata": {},
   "source": [
    "### Gaussian Mirror Time Reversal"
   ]
  },
  {
   "cell_type": "code",
   "execution_count": null,
   "metadata": {},
   "outputs": [],
   "source": [
    "μ = random_medium(zc, xc, sigma)\n",
    "plt.plot(points, np.absolute(ssf_tr(Phi0, μ, k, h, gaussian_mirror(rM)))**2, label='Gaussian')\n",
    "plt.plot(points, np.absolute(hybrid_tr(Phi0, μ, k, h, gaussian_mirror(rM)))**2, label='Hybrid')\n",
    "plt.plot(points, np.absolute(Phi0)**2, label='Source')\n",
    "plt.legend()\n",
    "plt.show()"
   ]
  },
  {
   "cell_type": "markdown",
   "metadata": {},
   "source": [
    "### Theoretical Formulas"
   ]
  },
  {
   "cell_type": "code",
   "execution_count": null,
   "metadata": {},
   "outputs": [],
   "source": [
    "def theory_gamma2(sigma, zc, xc):\n",
    "    return 2 * sigma ** 2 * zc / xc ** 2\n",
    "\n",
    "def theory_ra(sigma, zc, xc, omega):\n",
    "    return 1 / sqrt(theory_gamma2(sigma, zc, xc) * omega**2 * L / 48)\n",
    "\n",
    "def theory_Phitr_random(rM, omega, sigma, zc, xc):\n",
    "    k = omega / c\n",
    "    rtr = theory_rtr(rM, k)\n",
    "    atr = theory_atr(rM, k)\n",
    "    ra = theory_ra(sigma, zc, xc, omega)\n",
    "    return 1 / atr * np.exp(- (points / rtr) ** 2) * np.exp(- (points / ra) ** 2)\n",
    "\n",
    "def theory_Phitr_hybrid(rM, omega, sigma, zc):\n",
    "    k = omega / c\n",
    "    rtr = theory_rtr(rM, k)\n",
    "    atr = theory_atr(rM, k)\n",
    "    return 1 / atr * np.exp(- (points / rtr) ** 2) * np.exp(-theory_gamma0(sigma, zc)/8 * L * omega**2)"
   ]
  },
  {
   "cell_type": "markdown",
   "metadata": {},
   "source": [
    "### Average refocused wave profile"
   ]
  },
  {
   "cell_type": "code",
   "execution_count": null,
   "metadata": {},
   "outputs": [],
   "source": [
    "xc = 4\n",
    "zc = 1\n",
    "sigma = 1\n",
    "\n",
    "rM = 10\n",
    "\n",
    "N_avg = 5000\n",
    "plot_period = 200\n",
    "\n",
    "%matplotlib notebook\n",
    "fig = plt.figure(figsize=(10, 7))\n",
    "ax = fig.add_subplot(111)\n",
    "plt.ion()\n",
    "fig.show()\n",
    "fig.canvas.draw()\n",
    "\n",
    "theory_avg_Phitr = np.absolute(theory_Phitr_random(rM, omega, sigma, zc, xc)) ** 2\n",
    "avg_Phitr = np.zeros(npoints, dtype=complex)\n",
    "\n",
    "for i in tqdm_notebook(range(N_avg)):\n",
    "    avg_Phitr += ssf_tr(Phi0, random_medium(zc, xc, sigma), k, h, gaussian_mirror(rM))\n",
    "    if i % plot_period == 0 or i == N_avg - 1:\n",
    "        ax.clear()\n",
    "        ax.plot(points, theory_avg_Phitr, label='Theory')\n",
    "        ax.plot(points, np.absolute(avg_Phitr / (i+1)) ** 2, label='Numerical')\n",
    "        ax.set_ylim(-0.05 * np.max(theory_avg_Phitr), np.max(theory_avg_Phitr)*1.1)\n",
    "        ax.legend()\n",
    "        ax.plot()\n",
    "        fig.canvas.draw()\n",
    "\n",
    "avg_Phitr /= N_avg\n",
    "\n",
    "fig.show()\n",
    "%matplotlib inline\n",
    "plt.plot(points, theory_avg_Phitr, label='Theory')\n",
    "plt.plot(points, np.absolute(avg_Phitr) ** 2, label='Numerical')\n",
    "plt.legend()\n",
    "plt.show()"
   ]
  },
  {
   "cell_type": "markdown",
   "metadata": {},
   "source": [
    "### Average refocused wave profile for Hybrid settings"
   ]
  },
  {
   "cell_type": "code",
   "execution_count": null,
   "metadata": {},
   "outputs": [],
   "source": [
    "xc = 4\n",
    "zc = 1\n",
    "sigma = 1\n",
    "\n",
    "rM = 10\n",
    "\n",
    "N_avg = 5000\n",
    "plot_period = 200\n",
    "\n",
    "%matplotlib notebook\n",
    "fig = plt.figure(figsize=(10, 7))\n",
    "ax = fig.add_subplot(111)\n",
    "plt.ion()\n",
    "fig.show()\n",
    "fig.canvas.draw()\n",
    "\n",
    "theory_avg_Phitr_hybrid = np.absolute(theory_Phitr_hybrid(rM, omega, sigma, zc)) ** 2\n",
    "avg_Phitr_hybrid = np.zeros(npoints, dtype=complex)\n",
    "\n",
    "for i in tqdm_notebook(range(N_avg)):\n",
    "    avg_Phitr_hybrid += hybrid_tr(Phi0, random_medium(zc, xc, sigma), k, h, gaussian_mirror(rM))\n",
    "    if i % plot_period == 0 or i == N_avg - 1:\n",
    "        ax.clear()\n",
    "        ax.plot(points, theory_avg_Phitr_hybrid, label='Theory')\n",
    "        ax.plot(points, np.absolute(avg_Phitr_hybrid / (i+1)) ** 2, label='Numerical')\n",
    "        ax.set_ylim(-0.05 * np.max(theory_avg_Phitr_hybrid), np.max(theory_avg_Phitr_hybrid)*1.1)\n",
    "        ax.legend()\n",
    "        ax.plot()\n",
    "        fig.canvas.draw()\n",
    "\n",
    "avg_Phitr_hybrid /= N_avg\n",
    "\n",
    "fig.show()\n",
    "%matplotlib inline\n",
    "plt.plot(points, theory_avg_Phitr_hybrid, label='Theory')\n",
    "plt.plot(points, np.absolute(avg_Phitr_hybrid) ** 2, label='Numerical')\n",
    "plt.legend()\n",
    "plt.show()"
   ]
  },
  {
   "cell_type": "code",
   "execution_count": null,
   "metadata": {},
   "outputs": [],
   "source": [
    "plt.plot(points, np.absolute(avg_Phitr_hybrid) ** 2/max(np.absolute(avg_Phitr_hybrid) ** 2), label='Hybrid')\n",
    "plt.plot(points, np.absolute(avg_Phitr) ** 2/max(np.absolute(avg_Phitr) ** 2), label='Full Random')\n",
    "plt.plot(points, np.absolute(ssf_tr(Phi0, μ, k, h, gaussian_mirror(rM)))**2/max(np.absolute(ssf_tr(Phi0, μ, k, h, gaussian_mirror(rM)))**2), label='Uniform')\n",
    "plt.legend()\n",
    "plt.show()"
   ]
  },
  {
   "cell_type": "markdown",
   "metadata": {},
   "source": [
    "## 5) Time reversal for time-dependent waves in a random medium"
   ]
  },
  {
   "cell_type": "code",
   "execution_count": null,
   "metadata": {},
   "outputs": [],
   "source": [
    "ω0 = 1\n",
    "B = 0.75\n",
    "N_freq = 20\n",
    "ωs = np.linspace(ω0-B, ω0+B, N_freq)"
   ]
  },
  {
   "cell_type": "code",
   "execution_count": null,
   "metadata": {},
   "outputs": [],
   "source": [
    "def ssf_tr_time(Phi0, μ, ωs, h, mirror):\n",
    "    res = np.zeros((len(ωs), npoints), dtype=complex)\n",
    "    for (i, ω) in enumerate(ωs):\n",
    "        res[i] = ssf_tr(Phi0, μ, ω/c, h, mirror)\n",
    "    return res"
   ]
  },
  {
   "cell_type": "code",
   "execution_count": null,
   "metadata": {},
   "outputs": [],
   "source": [
    "rM = 10"
   ]
  },
  {
   "cell_type": "code",
   "execution_count": null,
   "metadata": {},
   "outputs": [],
   "source": [
    "Phi_tr_time = ssf_tr_time(Phi0, random_medium(zc, xc, sigma), ωs, h, gaussian_mirror(rM))\n",
    "Phi_tr_time_mod = np.mean(np.absolute(Phi_tr_time) ** 2, axis=0)\n",
    "\n",
    "plt.plot(points, Phi_tr_time_mod, label='Numerical')\n",
    "plt.plot(points, np.absolute(theory_Phitr_random(rM, ω0, sigma, zc, xc)) ** 2, label='Theory')\n",
    "plt.legend()\n",
    "plt.show()"
   ]
  }
 ],
 "metadata": {
  "kernelspec": {
   "display_name": "Python 3",
   "language": "python",
   "name": "python3"
  },
  "language_info": {
   "codemirror_mode": {
    "name": "ipython",
    "version": 3
   },
   "file_extension": ".py",
   "mimetype": "text/x-python",
   "name": "python",
   "nbconvert_exporter": "python",
   "pygments_lexer": "ipython3",
   "version": "3.7.1"
  }
 },
 "nbformat": 4,
 "nbformat_minor": 2
}
